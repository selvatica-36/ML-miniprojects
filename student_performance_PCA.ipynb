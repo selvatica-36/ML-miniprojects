{
 "cells": [
  {
   "cell_type": "markdown",
   "id": "838f8216-ec65-4685-b3fb-393a99bffee8",
   "metadata": {},
   "source": [
    "# Dimensionality Reduction with PCA: EDA on Student Performance\n",
    "\n",
    "#### **Problem: The guidance counsellor would like to understand the types of students in Year 12 at our school to reccommend appropriate colleges.**\n",
    "\n",
    "#### We would like to have an intuitive way to gather data from 8 subjects (8 dimensions) and find patterns to inform the counsellor. \n",
    "\n",
    "#### Question: can we capture more than 80% of the variation in our data with 2 principal components (2 dimensions)? \n",
    "\n",
    "#### If yes, we need to apply PCA and explore the students clusters in our visualisation"
   ]
  },
  {
   "cell_type": "markdown",
   "id": "c0b9b428-1821-45e9-9c29-3841b4365584",
   "metadata": {},
   "source": [
    "## 1. Applying PCA"
   ]
  },
  {
   "cell_type": "code",
   "execution_count": 1,
   "id": "14fe5e4f",
   "metadata": {},
   "outputs": [],
   "source": [
    "# Import statements\n",
    "from sklearn.decomposition import PCA\n",
    "\n",
    "import pandas as pd\n",
    "import plotly.graph_objects as go\n",
    "import plotly.io as pio"
   ]
  },
  {
   "cell_type": "code",
   "execution_count": 3,
   "id": "81e956c2-afa8-4891-91ec-5d90d5e32836",
   "metadata": {},
   "outputs": [
    {
     "data": {
      "text/html": [
       "<div>\n",
       "<style scoped>\n",
       "    .dataframe tbody tr th:only-of-type {\n",
       "        vertical-align: middle;\n",
       "    }\n",
       "\n",
       "    .dataframe tbody tr th {\n",
       "        vertical-align: top;\n",
       "    }\n",
       "\n",
       "    .dataframe thead th {\n",
       "        text-align: right;\n",
       "    }\n",
       "</style>\n",
       "<table border=\"1\" class=\"dataframe\">\n",
       "  <thead>\n",
       "    <tr style=\"text-align: right;\">\n",
       "      <th></th>\n",
       "      <th>student_id</th>\n",
       "      <th>math</th>\n",
       "      <th>science</th>\n",
       "      <th>cs</th>\n",
       "      <th>band</th>\n",
       "      <th>english</th>\n",
       "      <th>history</th>\n",
       "      <th>spanish</th>\n",
       "      <th>physed</th>\n",
       "    </tr>\n",
       "  </thead>\n",
       "  <tbody>\n",
       "    <tr>\n",
       "      <th>0</th>\n",
       "      <td>1</td>\n",
       "      <td>46</td>\n",
       "      <td>48</td>\n",
       "      <td>50</td>\n",
       "      <td>74</td>\n",
       "      <td>34</td>\n",
       "      <td>44</td>\n",
       "      <td>39</td>\n",
       "      <td>73</td>\n",
       "    </tr>\n",
       "    <tr>\n",
       "      <th>1</th>\n",
       "      <td>2</td>\n",
       "      <td>66</td>\n",
       "      <td>65</td>\n",
       "      <td>65</td>\n",
       "      <td>66</td>\n",
       "      <td>74</td>\n",
       "      <td>80</td>\n",
       "      <td>75</td>\n",
       "      <td>63</td>\n",
       "    </tr>\n",
       "    <tr>\n",
       "      <th>2</th>\n",
       "      <td>3</td>\n",
       "      <td>55</td>\n",
       "      <td>53</td>\n",
       "      <td>50</td>\n",
       "      <td>76</td>\n",
       "      <td>71</td>\n",
       "      <td>72</td>\n",
       "      <td>76</td>\n",
       "      <td>71</td>\n",
       "    </tr>\n",
       "    <tr>\n",
       "      <th>3</th>\n",
       "      <td>4</td>\n",
       "      <td>53</td>\n",
       "      <td>57</td>\n",
       "      <td>53</td>\n",
       "      <td>80</td>\n",
       "      <td>77</td>\n",
       "      <td>77</td>\n",
       "      <td>85</td>\n",
       "      <td>82</td>\n",
       "    </tr>\n",
       "    <tr>\n",
       "      <th>4</th>\n",
       "      <td>5</td>\n",
       "      <td>55</td>\n",
       "      <td>62</td>\n",
       "      <td>58</td>\n",
       "      <td>67</td>\n",
       "      <td>82</td>\n",
       "      <td>77</td>\n",
       "      <td>78</td>\n",
       "      <td>60</td>\n",
       "    </tr>\n",
       "  </tbody>\n",
       "</table>\n",
       "</div>"
      ],
      "text/plain": [
       "   student_id  math  science  cs  band  english  history  spanish  physed\n",
       "0           1    46       48  50    74       34       44       39      73\n",
       "1           2    66       65  65    66       74       80       75      63\n",
       "2           3    55       53  50    76       71       72       76      71\n",
       "3           4    53       57  53    80       77       77       85      82\n",
       "4           5    55       62  58    67       82       77       78      60"
      ]
     },
     "execution_count": 3,
     "metadata": {},
     "output_type": "execute_result"
    }
   ],
   "source": [
    "# 1. Read in the student grades data set\n",
    "df = pd.read_csv('Data/student_grades.csv')\n",
    "df.head()"
   ]
  },
  {
   "cell_type": "code",
   "execution_count": 4,
   "id": "4586f3b6-2c12-4166-b25f-34ed5212e616",
   "metadata": {},
   "outputs": [
    {
     "data": {
      "text/html": [
       "<div>\n",
       "<style scoped>\n",
       "    .dataframe tbody tr th:only-of-type {\n",
       "        vertical-align: middle;\n",
       "    }\n",
       "\n",
       "    .dataframe tbody tr th {\n",
       "        vertical-align: top;\n",
       "    }\n",
       "\n",
       "    .dataframe thead th {\n",
       "        text-align: right;\n",
       "    }\n",
       "</style>\n",
       "<table border=\"1\" class=\"dataframe\">\n",
       "  <thead>\n",
       "    <tr style=\"text-align: right;\">\n",
       "      <th></th>\n",
       "      <th>math</th>\n",
       "      <th>science</th>\n",
       "      <th>cs</th>\n",
       "      <th>band</th>\n",
       "      <th>english</th>\n",
       "      <th>history</th>\n",
       "      <th>spanish</th>\n",
       "      <th>physed</th>\n",
       "    </tr>\n",
       "  </thead>\n",
       "  <tbody>\n",
       "    <tr>\n",
       "      <th>0</th>\n",
       "      <td>46</td>\n",
       "      <td>48</td>\n",
       "      <td>50</td>\n",
       "      <td>74</td>\n",
       "      <td>34</td>\n",
       "      <td>44</td>\n",
       "      <td>39</td>\n",
       "      <td>73</td>\n",
       "    </tr>\n",
       "    <tr>\n",
       "      <th>1</th>\n",
       "      <td>66</td>\n",
       "      <td>65</td>\n",
       "      <td>65</td>\n",
       "      <td>66</td>\n",
       "      <td>74</td>\n",
       "      <td>80</td>\n",
       "      <td>75</td>\n",
       "      <td>63</td>\n",
       "    </tr>\n",
       "    <tr>\n",
       "      <th>2</th>\n",
       "      <td>55</td>\n",
       "      <td>53</td>\n",
       "      <td>50</td>\n",
       "      <td>76</td>\n",
       "      <td>71</td>\n",
       "      <td>72</td>\n",
       "      <td>76</td>\n",
       "      <td>71</td>\n",
       "    </tr>\n",
       "    <tr>\n",
       "      <th>3</th>\n",
       "      <td>53</td>\n",
       "      <td>57</td>\n",
       "      <td>53</td>\n",
       "      <td>80</td>\n",
       "      <td>77</td>\n",
       "      <td>77</td>\n",
       "      <td>85</td>\n",
       "      <td>82</td>\n",
       "    </tr>\n",
       "    <tr>\n",
       "      <th>4</th>\n",
       "      <td>55</td>\n",
       "      <td>62</td>\n",
       "      <td>58</td>\n",
       "      <td>67</td>\n",
       "      <td>82</td>\n",
       "      <td>77</td>\n",
       "      <td>78</td>\n",
       "      <td>60</td>\n",
       "    </tr>\n",
       "  </tbody>\n",
       "</table>\n",
       "</div>"
      ],
      "text/plain": [
       "   math  science  cs  band  english  history  spanish  physed\n",
       "0    46       48  50    74       34       44       39      73\n",
       "1    66       65  65    66       74       80       75      63\n",
       "2    55       53  50    76       71       72       76      71\n",
       "3    53       57  53    80       77       77       85      82\n",
       "4    55       62  58    67       82       77       78      60"
      ]
     },
     "execution_count": 4,
     "metadata": {},
     "output_type": "execute_result"
    }
   ],
   "source": [
    "# 2. Drop the first column with student_id\n",
    "grades = df.drop('student_id', axis=1)\n",
    "grades.head()"
   ]
  },
  {
   "cell_type": "code",
   "execution_count": 5,
   "id": "e0ce403f-92ae-4635-9b8e-e157dc340bb6",
   "metadata": {},
   "outputs": [
    {
     "data": {
      "text/html": [
       "<div>\n",
       "<style scoped>\n",
       "    .dataframe tbody tr th:only-of-type {\n",
       "        vertical-align: middle;\n",
       "    }\n",
       "\n",
       "    .dataframe tbody tr th {\n",
       "        vertical-align: top;\n",
       "    }\n",
       "\n",
       "    .dataframe thead th {\n",
       "        text-align: right;\n",
       "    }\n",
       "</style>\n",
       "<table border=\"1\" class=\"dataframe\">\n",
       "  <thead>\n",
       "    <tr style=\"text-align: right;\">\n",
       "      <th></th>\n",
       "      <th>math</th>\n",
       "      <th>science</th>\n",
       "      <th>cs</th>\n",
       "      <th>band</th>\n",
       "      <th>english</th>\n",
       "      <th>history</th>\n",
       "      <th>spanish</th>\n",
       "      <th>physed</th>\n",
       "    </tr>\n",
       "  </thead>\n",
       "  <tbody>\n",
       "    <tr>\n",
       "      <th>0</th>\n",
       "      <td>-7.05</td>\n",
       "      <td>-5.22</td>\n",
       "      <td>-2.75</td>\n",
       "      <td>3.96</td>\n",
       "      <td>-26.97</td>\n",
       "      <td>-19.6</td>\n",
       "      <td>-26.56</td>\n",
       "      <td>5.39</td>\n",
       "    </tr>\n",
       "    <tr>\n",
       "      <th>1</th>\n",
       "      <td>12.95</td>\n",
       "      <td>11.78</td>\n",
       "      <td>12.25</td>\n",
       "      <td>-4.04</td>\n",
       "      <td>13.03</td>\n",
       "      <td>16.4</td>\n",
       "      <td>9.44</td>\n",
       "      <td>-4.61</td>\n",
       "    </tr>\n",
       "    <tr>\n",
       "      <th>2</th>\n",
       "      <td>1.95</td>\n",
       "      <td>-0.22</td>\n",
       "      <td>-2.75</td>\n",
       "      <td>5.96</td>\n",
       "      <td>10.03</td>\n",
       "      <td>8.4</td>\n",
       "      <td>10.44</td>\n",
       "      <td>3.39</td>\n",
       "    </tr>\n",
       "    <tr>\n",
       "      <th>3</th>\n",
       "      <td>-0.05</td>\n",
       "      <td>3.78</td>\n",
       "      <td>0.25</td>\n",
       "      <td>9.96</td>\n",
       "      <td>16.03</td>\n",
       "      <td>13.4</td>\n",
       "      <td>19.44</td>\n",
       "      <td>14.39</td>\n",
       "    </tr>\n",
       "    <tr>\n",
       "      <th>4</th>\n",
       "      <td>1.95</td>\n",
       "      <td>8.78</td>\n",
       "      <td>5.25</td>\n",
       "      <td>-3.04</td>\n",
       "      <td>21.03</td>\n",
       "      <td>13.4</td>\n",
       "      <td>12.44</td>\n",
       "      <td>-7.61</td>\n",
       "    </tr>\n",
       "  </tbody>\n",
       "</table>\n",
       "</div>"
      ],
      "text/plain": [
       "    math  science     cs  band  english  history  spanish  physed\n",
       "0  -7.05    -5.22  -2.75  3.96   -26.97    -19.6   -26.56    5.39\n",
       "1  12.95    11.78  12.25 -4.04    13.03     16.4     9.44   -4.61\n",
       "2   1.95    -0.22  -2.75  5.96    10.03      8.4    10.44    3.39\n",
       "3  -0.05     3.78   0.25  9.96    16.03     13.4    19.44   14.39\n",
       "4   1.95     8.78   5.25 -3.04    21.03     13.4    12.44   -7.61"
      ]
     },
     "execution_count": 5,
     "metadata": {},
     "output_type": "execute_result"
    }
   ],
   "source": [
    "# 3. Center the data around 0\n",
    "# All features are in the same scale, so there is no need for standardisation (if needed, use sklearn's StandardScaler module)\n",
    "\n",
    "grades_centered = grades - grades.mean()\n",
    "grades_centered.head()"
   ]
  },
  {
   "cell_type": "code",
   "execution_count": 6,
   "id": "1c8daa39-622c-4aeb-bf2c-20598b553db8",
   "metadata": {},
   "outputs": [
    {
     "data": {
      "text/html": [
       "<style>#sk-container-id-1 {\n",
       "  /* Definition of color scheme common for light and dark mode */\n",
       "  --sklearn-color-text: black;\n",
       "  --sklearn-color-line: gray;\n",
       "  /* Definition of color scheme for unfitted estimators */\n",
       "  --sklearn-color-unfitted-level-0: #fff5e6;\n",
       "  --sklearn-color-unfitted-level-1: #f6e4d2;\n",
       "  --sklearn-color-unfitted-level-2: #ffe0b3;\n",
       "  --sklearn-color-unfitted-level-3: chocolate;\n",
       "  /* Definition of color scheme for fitted estimators */\n",
       "  --sklearn-color-fitted-level-0: #f0f8ff;\n",
       "  --sklearn-color-fitted-level-1: #d4ebff;\n",
       "  --sklearn-color-fitted-level-2: #b3dbfd;\n",
       "  --sklearn-color-fitted-level-3: cornflowerblue;\n",
       "\n",
       "  /* Specific color for light theme */\n",
       "  --sklearn-color-text-on-default-background: var(--sg-text-color, var(--theme-code-foreground, var(--jp-content-font-color1, black)));\n",
       "  --sklearn-color-background: var(--sg-background-color, var(--theme-background, var(--jp-layout-color0, white)));\n",
       "  --sklearn-color-border-box: var(--sg-text-color, var(--theme-code-foreground, var(--jp-content-font-color1, black)));\n",
       "  --sklearn-color-icon: #696969;\n",
       "\n",
       "  @media (prefers-color-scheme: dark) {\n",
       "    /* Redefinition of color scheme for dark theme */\n",
       "    --sklearn-color-text-on-default-background: var(--sg-text-color, var(--theme-code-foreground, var(--jp-content-font-color1, white)));\n",
       "    --sklearn-color-background: var(--sg-background-color, var(--theme-background, var(--jp-layout-color0, #111)));\n",
       "    --sklearn-color-border-box: var(--sg-text-color, var(--theme-code-foreground, var(--jp-content-font-color1, white)));\n",
       "    --sklearn-color-icon: #878787;\n",
       "  }\n",
       "}\n",
       "\n",
       "#sk-container-id-1 {\n",
       "  color: var(--sklearn-color-text);\n",
       "}\n",
       "\n",
       "#sk-container-id-1 pre {\n",
       "  padding: 0;\n",
       "}\n",
       "\n",
       "#sk-container-id-1 input.sk-hidden--visually {\n",
       "  border: 0;\n",
       "  clip: rect(1px 1px 1px 1px);\n",
       "  clip: rect(1px, 1px, 1px, 1px);\n",
       "  height: 1px;\n",
       "  margin: -1px;\n",
       "  overflow: hidden;\n",
       "  padding: 0;\n",
       "  position: absolute;\n",
       "  width: 1px;\n",
       "}\n",
       "\n",
       "#sk-container-id-1 div.sk-dashed-wrapped {\n",
       "  border: 1px dashed var(--sklearn-color-line);\n",
       "  margin: 0 0.4em 0.5em 0.4em;\n",
       "  box-sizing: border-box;\n",
       "  padding-bottom: 0.4em;\n",
       "  background-color: var(--sklearn-color-background);\n",
       "}\n",
       "\n",
       "#sk-container-id-1 div.sk-container {\n",
       "  /* jupyter's `normalize.less` sets `[hidden] { display: none; }`\n",
       "     but bootstrap.min.css set `[hidden] { display: none !important; }`\n",
       "     so we also need the `!important` here to be able to override the\n",
       "     default hidden behavior on the sphinx rendered scikit-learn.org.\n",
       "     See: https://github.com/scikit-learn/scikit-learn/issues/21755 */\n",
       "  display: inline-block !important;\n",
       "  position: relative;\n",
       "}\n",
       "\n",
       "#sk-container-id-1 div.sk-text-repr-fallback {\n",
       "  display: none;\n",
       "}\n",
       "\n",
       "div.sk-parallel-item,\n",
       "div.sk-serial,\n",
       "div.sk-item {\n",
       "  /* draw centered vertical line to link estimators */\n",
       "  background-image: linear-gradient(var(--sklearn-color-text-on-default-background), var(--sklearn-color-text-on-default-background));\n",
       "  background-size: 2px 100%;\n",
       "  background-repeat: no-repeat;\n",
       "  background-position: center center;\n",
       "}\n",
       "\n",
       "/* Parallel-specific style estimator block */\n",
       "\n",
       "#sk-container-id-1 div.sk-parallel-item::after {\n",
       "  content: \"\";\n",
       "  width: 100%;\n",
       "  border-bottom: 2px solid var(--sklearn-color-text-on-default-background);\n",
       "  flex-grow: 1;\n",
       "}\n",
       "\n",
       "#sk-container-id-1 div.sk-parallel {\n",
       "  display: flex;\n",
       "  align-items: stretch;\n",
       "  justify-content: center;\n",
       "  background-color: var(--sklearn-color-background);\n",
       "  position: relative;\n",
       "}\n",
       "\n",
       "#sk-container-id-1 div.sk-parallel-item {\n",
       "  display: flex;\n",
       "  flex-direction: column;\n",
       "}\n",
       "\n",
       "#sk-container-id-1 div.sk-parallel-item:first-child::after {\n",
       "  align-self: flex-end;\n",
       "  width: 50%;\n",
       "}\n",
       "\n",
       "#sk-container-id-1 div.sk-parallel-item:last-child::after {\n",
       "  align-self: flex-start;\n",
       "  width: 50%;\n",
       "}\n",
       "\n",
       "#sk-container-id-1 div.sk-parallel-item:only-child::after {\n",
       "  width: 0;\n",
       "}\n",
       "\n",
       "/* Serial-specific style estimator block */\n",
       "\n",
       "#sk-container-id-1 div.sk-serial {\n",
       "  display: flex;\n",
       "  flex-direction: column;\n",
       "  align-items: center;\n",
       "  background-color: var(--sklearn-color-background);\n",
       "  padding-right: 1em;\n",
       "  padding-left: 1em;\n",
       "}\n",
       "\n",
       "\n",
       "/* Toggleable style: style used for estimator/Pipeline/ColumnTransformer box that is\n",
       "clickable and can be expanded/collapsed.\n",
       "- Pipeline and ColumnTransformer use this feature and define the default style\n",
       "- Estimators will overwrite some part of the style using the `sk-estimator` class\n",
       "*/\n",
       "\n",
       "/* Pipeline and ColumnTransformer style (default) */\n",
       "\n",
       "#sk-container-id-1 div.sk-toggleable {\n",
       "  /* Default theme specific background. It is overwritten whether we have a\n",
       "  specific estimator or a Pipeline/ColumnTransformer */\n",
       "  background-color: var(--sklearn-color-background);\n",
       "}\n",
       "\n",
       "/* Toggleable label */\n",
       "#sk-container-id-1 label.sk-toggleable__label {\n",
       "  cursor: pointer;\n",
       "  display: block;\n",
       "  width: 100%;\n",
       "  margin-bottom: 0;\n",
       "  padding: 0.5em;\n",
       "  box-sizing: border-box;\n",
       "  text-align: center;\n",
       "}\n",
       "\n",
       "#sk-container-id-1 label.sk-toggleable__label-arrow:before {\n",
       "  /* Arrow on the left of the label */\n",
       "  content: \"▸\";\n",
       "  float: left;\n",
       "  margin-right: 0.25em;\n",
       "  color: var(--sklearn-color-icon);\n",
       "}\n",
       "\n",
       "#sk-container-id-1 label.sk-toggleable__label-arrow:hover:before {\n",
       "  color: var(--sklearn-color-text);\n",
       "}\n",
       "\n",
       "/* Toggleable content - dropdown */\n",
       "\n",
       "#sk-container-id-1 div.sk-toggleable__content {\n",
       "  max-height: 0;\n",
       "  max-width: 0;\n",
       "  overflow: hidden;\n",
       "  text-align: left;\n",
       "  /* unfitted */\n",
       "  background-color: var(--sklearn-color-unfitted-level-0);\n",
       "}\n",
       "\n",
       "#sk-container-id-1 div.sk-toggleable__content.fitted {\n",
       "  /* fitted */\n",
       "  background-color: var(--sklearn-color-fitted-level-0);\n",
       "}\n",
       "\n",
       "#sk-container-id-1 div.sk-toggleable__content pre {\n",
       "  margin: 0.2em;\n",
       "  border-radius: 0.25em;\n",
       "  color: var(--sklearn-color-text);\n",
       "  /* unfitted */\n",
       "  background-color: var(--sklearn-color-unfitted-level-0);\n",
       "}\n",
       "\n",
       "#sk-container-id-1 div.sk-toggleable__content.fitted pre {\n",
       "  /* unfitted */\n",
       "  background-color: var(--sklearn-color-fitted-level-0);\n",
       "}\n",
       "\n",
       "#sk-container-id-1 input.sk-toggleable__control:checked~div.sk-toggleable__content {\n",
       "  /* Expand drop-down */\n",
       "  max-height: 200px;\n",
       "  max-width: 100%;\n",
       "  overflow: auto;\n",
       "}\n",
       "\n",
       "#sk-container-id-1 input.sk-toggleable__control:checked~label.sk-toggleable__label-arrow:before {\n",
       "  content: \"▾\";\n",
       "}\n",
       "\n",
       "/* Pipeline/ColumnTransformer-specific style */\n",
       "\n",
       "#sk-container-id-1 div.sk-label input.sk-toggleable__control:checked~label.sk-toggleable__label {\n",
       "  color: var(--sklearn-color-text);\n",
       "  background-color: var(--sklearn-color-unfitted-level-2);\n",
       "}\n",
       "\n",
       "#sk-container-id-1 div.sk-label.fitted input.sk-toggleable__control:checked~label.sk-toggleable__label {\n",
       "  background-color: var(--sklearn-color-fitted-level-2);\n",
       "}\n",
       "\n",
       "/* Estimator-specific style */\n",
       "\n",
       "/* Colorize estimator box */\n",
       "#sk-container-id-1 div.sk-estimator input.sk-toggleable__control:checked~label.sk-toggleable__label {\n",
       "  /* unfitted */\n",
       "  background-color: var(--sklearn-color-unfitted-level-2);\n",
       "}\n",
       "\n",
       "#sk-container-id-1 div.sk-estimator.fitted input.sk-toggleable__control:checked~label.sk-toggleable__label {\n",
       "  /* fitted */\n",
       "  background-color: var(--sklearn-color-fitted-level-2);\n",
       "}\n",
       "\n",
       "#sk-container-id-1 div.sk-label label.sk-toggleable__label,\n",
       "#sk-container-id-1 div.sk-label label {\n",
       "  /* The background is the default theme color */\n",
       "  color: var(--sklearn-color-text-on-default-background);\n",
       "}\n",
       "\n",
       "/* On hover, darken the color of the background */\n",
       "#sk-container-id-1 div.sk-label:hover label.sk-toggleable__label {\n",
       "  color: var(--sklearn-color-text);\n",
       "  background-color: var(--sklearn-color-unfitted-level-2);\n",
       "}\n",
       "\n",
       "/* Label box, darken color on hover, fitted */\n",
       "#sk-container-id-1 div.sk-label.fitted:hover label.sk-toggleable__label.fitted {\n",
       "  color: var(--sklearn-color-text);\n",
       "  background-color: var(--sklearn-color-fitted-level-2);\n",
       "}\n",
       "\n",
       "/* Estimator label */\n",
       "\n",
       "#sk-container-id-1 div.sk-label label {\n",
       "  font-family: monospace;\n",
       "  font-weight: bold;\n",
       "  display: inline-block;\n",
       "  line-height: 1.2em;\n",
       "}\n",
       "\n",
       "#sk-container-id-1 div.sk-label-container {\n",
       "  text-align: center;\n",
       "}\n",
       "\n",
       "/* Estimator-specific */\n",
       "#sk-container-id-1 div.sk-estimator {\n",
       "  font-family: monospace;\n",
       "  border: 1px dotted var(--sklearn-color-border-box);\n",
       "  border-radius: 0.25em;\n",
       "  box-sizing: border-box;\n",
       "  margin-bottom: 0.5em;\n",
       "  /* unfitted */\n",
       "  background-color: var(--sklearn-color-unfitted-level-0);\n",
       "}\n",
       "\n",
       "#sk-container-id-1 div.sk-estimator.fitted {\n",
       "  /* fitted */\n",
       "  background-color: var(--sklearn-color-fitted-level-0);\n",
       "}\n",
       "\n",
       "/* on hover */\n",
       "#sk-container-id-1 div.sk-estimator:hover {\n",
       "  /* unfitted */\n",
       "  background-color: var(--sklearn-color-unfitted-level-2);\n",
       "}\n",
       "\n",
       "#sk-container-id-1 div.sk-estimator.fitted:hover {\n",
       "  /* fitted */\n",
       "  background-color: var(--sklearn-color-fitted-level-2);\n",
       "}\n",
       "\n",
       "/* Specification for estimator info (e.g. \"i\" and \"?\") */\n",
       "\n",
       "/* Common style for \"i\" and \"?\" */\n",
       "\n",
       ".sk-estimator-doc-link,\n",
       "a:link.sk-estimator-doc-link,\n",
       "a:visited.sk-estimator-doc-link {\n",
       "  float: right;\n",
       "  font-size: smaller;\n",
       "  line-height: 1em;\n",
       "  font-family: monospace;\n",
       "  background-color: var(--sklearn-color-background);\n",
       "  border-radius: 1em;\n",
       "  height: 1em;\n",
       "  width: 1em;\n",
       "  text-decoration: none !important;\n",
       "  margin-left: 1ex;\n",
       "  /* unfitted */\n",
       "  border: var(--sklearn-color-unfitted-level-1) 1pt solid;\n",
       "  color: var(--sklearn-color-unfitted-level-1);\n",
       "}\n",
       "\n",
       ".sk-estimator-doc-link.fitted,\n",
       "a:link.sk-estimator-doc-link.fitted,\n",
       "a:visited.sk-estimator-doc-link.fitted {\n",
       "  /* fitted */\n",
       "  border: var(--sklearn-color-fitted-level-1) 1pt solid;\n",
       "  color: var(--sklearn-color-fitted-level-1);\n",
       "}\n",
       "\n",
       "/* On hover */\n",
       "div.sk-estimator:hover .sk-estimator-doc-link:hover,\n",
       ".sk-estimator-doc-link:hover,\n",
       "div.sk-label-container:hover .sk-estimator-doc-link:hover,\n",
       ".sk-estimator-doc-link:hover {\n",
       "  /* unfitted */\n",
       "  background-color: var(--sklearn-color-unfitted-level-3);\n",
       "  color: var(--sklearn-color-background);\n",
       "  text-decoration: none;\n",
       "}\n",
       "\n",
       "div.sk-estimator.fitted:hover .sk-estimator-doc-link.fitted:hover,\n",
       ".sk-estimator-doc-link.fitted:hover,\n",
       "div.sk-label-container:hover .sk-estimator-doc-link.fitted:hover,\n",
       ".sk-estimator-doc-link.fitted:hover {\n",
       "  /* fitted */\n",
       "  background-color: var(--sklearn-color-fitted-level-3);\n",
       "  color: var(--sklearn-color-background);\n",
       "  text-decoration: none;\n",
       "}\n",
       "\n",
       "/* Span, style for the box shown on hovering the info icon */\n",
       ".sk-estimator-doc-link span {\n",
       "  display: none;\n",
       "  z-index: 9999;\n",
       "  position: relative;\n",
       "  font-weight: normal;\n",
       "  right: .2ex;\n",
       "  padding: .5ex;\n",
       "  margin: .5ex;\n",
       "  width: min-content;\n",
       "  min-width: 20ex;\n",
       "  max-width: 50ex;\n",
       "  color: var(--sklearn-color-text);\n",
       "  box-shadow: 2pt 2pt 4pt #999;\n",
       "  /* unfitted */\n",
       "  background: var(--sklearn-color-unfitted-level-0);\n",
       "  border: .5pt solid var(--sklearn-color-unfitted-level-3);\n",
       "}\n",
       "\n",
       ".sk-estimator-doc-link.fitted span {\n",
       "  /* fitted */\n",
       "  background: var(--sklearn-color-fitted-level-0);\n",
       "  border: var(--sklearn-color-fitted-level-3);\n",
       "}\n",
       "\n",
       ".sk-estimator-doc-link:hover span {\n",
       "  display: block;\n",
       "}\n",
       "\n",
       "/* \"?\"-specific style due to the `<a>` HTML tag */\n",
       "\n",
       "#sk-container-id-1 a.estimator_doc_link {\n",
       "  float: right;\n",
       "  font-size: 1rem;\n",
       "  line-height: 1em;\n",
       "  font-family: monospace;\n",
       "  background-color: var(--sklearn-color-background);\n",
       "  border-radius: 1rem;\n",
       "  height: 1rem;\n",
       "  width: 1rem;\n",
       "  text-decoration: none;\n",
       "  /* unfitted */\n",
       "  color: var(--sklearn-color-unfitted-level-1);\n",
       "  border: var(--sklearn-color-unfitted-level-1) 1pt solid;\n",
       "}\n",
       "\n",
       "#sk-container-id-1 a.estimator_doc_link.fitted {\n",
       "  /* fitted */\n",
       "  border: var(--sklearn-color-fitted-level-1) 1pt solid;\n",
       "  color: var(--sklearn-color-fitted-level-1);\n",
       "}\n",
       "\n",
       "/* On hover */\n",
       "#sk-container-id-1 a.estimator_doc_link:hover {\n",
       "  /* unfitted */\n",
       "  background-color: var(--sklearn-color-unfitted-level-3);\n",
       "  color: var(--sklearn-color-background);\n",
       "  text-decoration: none;\n",
       "}\n",
       "\n",
       "#sk-container-id-1 a.estimator_doc_link.fitted:hover {\n",
       "  /* fitted */\n",
       "  background-color: var(--sklearn-color-fitted-level-3);\n",
       "}\n",
       "</style><div id=\"sk-container-id-1\" class=\"sk-top-container\"><div class=\"sk-text-repr-fallback\"><pre>PCA(n_components=2)</pre><b>In a Jupyter environment, please rerun this cell to show the HTML representation or trust the notebook. <br />On GitHub, the HTML representation is unable to render, please try loading this page with nbviewer.org.</b></div><div class=\"sk-container\" hidden><div class=\"sk-item\"><div class=\"sk-estimator fitted sk-toggleable\"><input class=\"sk-toggleable__control sk-hidden--visually\" id=\"sk-estimator-id-1\" type=\"checkbox\" checked><label for=\"sk-estimator-id-1\" class=\"sk-toggleable__label fitted sk-toggleable__label-arrow fitted\">&nbsp;&nbsp;PCA<a class=\"sk-estimator-doc-link fitted\" rel=\"noreferrer\" target=\"_blank\" href=\"https://scikit-learn.org/1.5/modules/generated/sklearn.decomposition.PCA.html\">?<span>Documentation for PCA</span></a><span class=\"sk-estimator-doc-link fitted\">i<span>Fitted</span></span></label><div class=\"sk-toggleable__content fitted\"><pre>PCA(n_components=2)</pre></div> </div></div></div></div>"
      ],
      "text/plain": [
       "PCA(n_components=2)"
      ]
     },
     "execution_count": 6,
     "metadata": {},
     "output_type": "execute_result"
    }
   ],
   "source": [
    "# 4. Fit a PCA model with 2 components\n",
    "pca = PCA(n_components=2)\n",
    "pca.fit(grades_centered)\n"
   ]
  },
  {
   "cell_type": "code",
   "execution_count": 7,
   "id": "f24ff184-d75c-4e82-84de-e0d940e54cab",
   "metadata": {},
   "outputs": [
    {
     "data": {
      "text/plain": [
       "array([0.81844937, 0.09778153])"
      ]
     },
     "execution_count": 7,
     "metadata": {},
     "output_type": "execute_result"
    }
   ],
   "source": [
    "# 5. View and interpret the explained variance ratios\n",
    "pca.explained_variance_ratio_\n",
    "\n",
    "# INTERPRETATION: these two principal components account for 90% of the variance observed in our data\n"
   ]
  },
  {
   "cell_type": "markdown",
   "id": "48643538-7265-48d2-9076-0015d16c65cb",
   "metadata": {},
   "source": [
    "## 2. Interpreting PCA "
   ]
  },
  {
   "cell_type": "code",
   "execution_count": 8,
   "id": "9a2db95b-9c19-4103-b64d-049ae22ba5de",
   "metadata": {},
   "outputs": [
    {
     "data": {
      "text/plain": [
       "array([[ 0.34433892,  0.34662586,  0.32733313, -0.00417335,  0.45552196,\n",
       "         0.46095972,  0.48354746,  0.01773586],\n",
       "       [ 0.45069884,  0.44923506,  0.47433583,  0.096715  , -0.33260806,\n",
       "        -0.31949261, -0.35110809,  0.15725648]])"
      ]
     },
     "execution_count": 8,
     "metadata": {},
     "output_type": "execute_result"
    }
   ],
   "source": [
    "# 1. View and interpret the components of the PCA model\n",
    "pca.components_"
   ]
  },
  {
   "cell_type": "code",
   "execution_count": 9,
   "id": "28e56d1e",
   "metadata": {},
   "outputs": [
    {
     "data": {
      "text/plain": [
       "Index(['student_id', 'math', 'science', 'cs', 'band', 'english', 'history',\n",
       "       'spanish', 'physed'],\n",
       "      dtype='object')"
      ]
     },
     "execution_count": 9,
     "metadata": {},
     "output_type": "execute_result"
    }
   ],
   "source": [
    "df.columns"
   ]
  },
  {
   "cell_type": "markdown",
   "id": "f4f5a1a6",
   "metadata": {},
   "source": [
    "**Component interpretations:**\n",
    "* PC1: higher = better grades in general\n",
    "* PC2: higher = good at math / science / cs, lower = good at english / history / spanish"
   ]
  },
  {
   "cell_type": "code",
   "execution_count": 10,
   "id": "d17944dc-c0f6-47e0-b472-719f97f91f4f",
   "metadata": {},
   "outputs": [
    {
     "data": {
      "text/html": [
       "<div>\n",
       "<style scoped>\n",
       "    .dataframe tbody tr th:only-of-type {\n",
       "        vertical-align: middle;\n",
       "    }\n",
       "\n",
       "    .dataframe tbody tr th {\n",
       "        vertical-align: top;\n",
       "    }\n",
       "\n",
       "    .dataframe thead th {\n",
       "        text-align: right;\n",
       "    }\n",
       "</style>\n",
       "<table border=\"1\" class=\"dataframe\">\n",
       "  <thead>\n",
       "    <tr style=\"text-align: right;\">\n",
       "      <th></th>\n",
       "      <th>PC1</th>\n",
       "      <th>PC2</th>\n",
       "    </tr>\n",
       "  </thead>\n",
       "  <tbody>\n",
       "    <tr>\n",
       "      <th>0</th>\n",
       "      <td>-39.221331</td>\n",
       "      <td>18.961672</td>\n",
       "    </tr>\n",
       "    <tr>\n",
       "      <th>1</th>\n",
       "      <td>30.547249</td>\n",
       "      <td>2.935450</td>\n",
       "    </tr>\n",
       "    <tr>\n",
       "      <th>2</th>\n",
       "      <td>13.219471</td>\n",
       "      <td>-9.100237</td>\n",
       "    </tr>\n",
       "    <tr>\n",
       "      <th>3</th>\n",
       "      <td>24.467554</td>\n",
       "      <td>-11.418090</td>\n",
       "    </tr>\n",
       "    <tr>\n",
       "      <th>4</th>\n",
       "      <td>27.082869</td>\n",
       "      <td>-9.821059</td>\n",
       "    </tr>\n",
       "  </tbody>\n",
       "</table>\n",
       "</div>"
      ],
      "text/plain": [
       "         PC1        PC2\n",
       "0 -39.221331  18.961672\n",
       "1  30.547249   2.935450\n",
       "2  13.219471  -9.100237\n",
       "3  24.467554 -11.418090\n",
       "4  27.082869  -9.821059"
      ]
     },
     "execution_count": 10,
     "metadata": {},
     "output_type": "execute_result"
    }
   ],
   "source": [
    "# 2. Plot the students on a scatter plot with the x-axis as PC 1 and the y-axis as PC 2\n",
    "\n",
    "grades_2d = pd.DataFrame(pca.transform(grades_centered), columns=['PC1', 'PC2'])\n",
    "grades_2d.head()"
   ]
  },
  {
   "cell_type": "code",
   "execution_count": 11,
   "id": "3632fea8",
   "metadata": {},
   "outputs": [],
   "source": [
    "# Define plotting function for PCA interpretation, using plotly\n",
    "def pca_2dplot_interactive(data_pca, data, x_col, y_col, label_col, title, xaxis_title, yaxis_title, \n",
    "                         marker_color='blue', marker_size=10, annotation_color='black', annotation_size=10):\n",
    "    \"\"\"\n",
    "    Create a Plotly scatter plot with labels for PCA analysis.\n",
    "\n",
    "    Parameters:\n",
    "    data_pca (pd.DataFrame): DataFrame containing the PC components data for the scatter plot.\n",
    "    data: original dataframe containing label.\n",
    "    x_col (str): Column name for the x-axis values.\n",
    "    y_col (str): Column name for the y-axis values.\n",
    "    label_col (str): Column name for the labels to be shown on hover and as annotations.\n",
    "    title (str): Title of the plot.\n",
    "    xaxis_title (str): Title for the x-axis.\n",
    "    yaxis_title (str): Title for the y-axis.\n",
    "    marker_color (str): Color of the markers. Default is 'blue'.\n",
    "    marker_size (int): Size of the markers. Default is 10.\n",
    "    annotation_color (str): Color of the annotation text. Default is 'black'.\n",
    "    annotation_size (int): Size of the annotation text. Default is 10.\n",
    "\n",
    "    Returns:\n",
    "    go.Figure: A Plotly figure object with the scatter plot.\n",
    "\n",
    "    # Example usage:\n",
    "    # fig = create_scatter_plot(cereal_2d, 'PC1', 'PC2', 'Cereal Name', \n",
    "                                'Comparing Cereals by Nutritional Facts', '<-- Higher Sugar & Calorie Cereals   Higher Protein Cereals -->',\n",
    "                                'Higher Protein, Vitamins and Minerals Cereals -->')\n",
    "    # fig.show()\n",
    "    \"\"\"\n",
    "    # Create a Plotly figure\n",
    "    fig = go.Figure()\n",
    "\n",
    "    # Scatter plot trace\n",
    "    scatter_trace = go.Scatter(\n",
    "        x=data_pca[x_col],\n",
    "        y=data_pca[y_col],\n",
    "        mode='markers',\n",
    "        marker=dict(color=marker_color, size=marker_size),\n",
    "        text=data[label_col],  # Labels for hover\n",
    "    )\n",
    "\n",
    "    # Add trace to the figure\n",
    "    fig.add_trace(scatter_trace)\n",
    "\n",
    "    # Add data labels using annotations\n",
    "    for i, label in enumerate(data[label_col]):\n",
    "        fig.add_annotation(\n",
    "            x=data_pca[x_col].iloc[i],\n",
    "            y=data_pca[y_col].iloc[i],\n",
    "            text=label,\n",
    "            showarrow=False,\n",
    "            xanchor='left',\n",
    "            xshift=5,\n",
    "            font=dict(color=annotation_color, size=annotation_size),\n",
    "        )\n",
    "\n",
    "    # Update layout with axis labels\n",
    "    fig.update_layout(\n",
    "        title=title,\n",
    "        xaxis=dict(title=xaxis_title),\n",
    "        yaxis=dict(title=yaxis_title),\n",
    "        height=650,\n",
    "        width=800,\n",
    "    )\n",
    "\n",
    "    return fig\n"
   ]
  },
  {
   "cell_type": "code",
   "execution_count": 12,
   "id": "d6065e4e",
   "metadata": {},
   "outputs": [],
   "source": [
    "figure_PCA = pca_2dplot_interactive(data_pca=grades_2d, data=df, \n",
    "                                  x_col='PC1', y_col='PC2', label_col='student_id',\n",
    "                                  title='PCA Analysis of Student Performance',\n",
    "                                  xaxis_title= 'Better grades ->',\n",
    "                                  yaxis_title= '<-- Better in Humanities     Better in STEM -->')"
   ]
  },
  {
   "cell_type": "code",
   "execution_count": null,
   "id": "60581da2",
   "metadata": {},
   "outputs": [
    {
     "data": {
      "application/vnd.plotly.v1+json": {
       "config": {
        "plotlyServerURL": "https://plot.ly"
       },
       "data": [
        {
         "marker": {
          "color": "blue",
          "size": 10
         },
         "mode": "markers",
         "text": [
          1,
          2,
          3,
          4,
          5,
          6,
          7,
          8,
          9,
          10,
          11,
          12,
          13,
          14,
          15,
          16,
          17,
          18,
          19,
          20,
          21,
          22,
          23,
          24,
          25,
          26,
          27,
          28,
          29,
          30,
          31,
          32,
          33,
          34,
          35,
          36,
          37,
          38,
          39,
          40,
          41,
          42,
          43,
          44,
          45,
          46,
          47,
          48,
          49,
          50,
          51,
          52,
          53,
          54,
          55,
          56,
          57,
          58,
          59,
          60,
          61,
          62,
          63,
          64,
          65,
          66,
          67,
          68,
          69,
          70,
          71,
          72,
          73,
          74,
          75,
          76,
          77,
          78,
          79,
          80,
          81,
          82,
          83,
          84,
          85,
          86,
          87,
          88,
          89,
          90,
          91,
          92,
          93,
          94,
          95,
          96,
          97,
          98,
          99,
          100
         ],
         "type": "scatter",
         "x": [
          -39.221331009123126,
          30.54724908811917,
          13.219470925088691,
          24.46755445104345,
          27.08286943179493,
          -52.46962228498257,
          22.187439566747198,
          -12.84169914885539,
          -34.43698814475467,
          65.20518172098103,
          -53.36815752790851,
          14.88885799196765,
          17.00060562087807,
          16.60445524693664,
          11.928644811321167,
          -54.02274748010367,
          13.898879672271597,
          28.273607678834075,
          36.52939959421728,
          -52.958136162900054,
          33.21650231352433,
          20.03084994995656,
          -14.214848727789413,
          20.651051413999486,
          35.24231194757128,
          -9.18594804316983,
          -12.751138620607238,
          -24.087029953165143,
          28.785201952831866,
          -58.428525443465404,
          32.488948432536986,
          -24.343961234606315,
          -14.106655279825628,
          -26.870217747973108,
          -60.10737044152667,
          -18.190299322221424,
          80.25931941959497,
          8.182411303291534,
          -56.00349942550455,
          76.01042682288039,
          -45.39950521081068,
          -15.38037955698483,
          -52.09699646679935,
          -24.553589843813683,
          13.158929069499052,
          -6.59368427886228,
          -45.717095245896225,
          10.48507742043261,
          -40.16637330687032,
          7.447651656127916,
          3.771518078910617,
          -14.854803654831565,
          13.595464071452783,
          -54.39585250076022,
          18.07081571763234,
          -18.014327344827215,
          -36.789588739034265,
          45.148862006271436,
          -40.00478425525164,
          -24.94818033448426,
          70.79825761564312,
          -48.387071751021914,
          -15.641229016407488,
          25.076557660968565,
          -41.395856232416406,
          66.55697883377547,
          24.623401723880367,
          -55.49473056341971,
          -8.291030114550573,
          34.329884164166316,
          30.617012812474304,
          16.2694184931547,
          22.910121354690084,
          -12.811044390973477,
          -2.4899641403992736,
          -41.25870457725579,
          -31.072291527335672,
          42.401902872749034,
          -15.982878377805406,
          72.4807374310567,
          -41.954320973113425,
          -17.821418792049325,
          6.377850383954058,
          32.67981119088292,
          8.470550330587873,
          16.596132183901915,
          17.295129078563335,
          -20.41400713385139,
          -0.052452266986592826,
          75.51792073677177,
          -26.437428018104132,
          2.1758378172480386,
          75.42594643660348,
          23.864203687917126,
          9.060917863613383,
          63.67533751655184,
          -32.31389033440265,
          -46.598534236770305,
          -30.982464083173294,
          20.339185701876474
         ],
         "y": [
          18.96167185838257,
          2.9354497770236065,
          -9.100236890297719,
          -11.418089780699217,
          -9.821058799780968,
          4.6327725367733965,
          22.332969347975197,
          -6.775298346108749,
          -11.826972269240098,
          12.578796739415184,
          25.10107146110051,
          -8.03566281325849,
          -15.13659926391133,
          -2.901967996281569,
          -2.728506971391152,
          11.48251431879832,
          -0.4161156869213204,
          -23.88698683772185,
          1.2469337710642021,
          7.281903032204883,
          -1.8020677938557317,
          -12.971649955370525,
          -10.08471209621334,
          5.772837153364503,
          1.8220415932084413,
          -1.907495134065455,
          -14.577700176274703,
          -11.83873167252682,
          -1.002663569193252,
          -17.627966463010814,
          -13.097918466765007,
          -2.3183014634088956,
          -10.679596215326546,
          -12.187265871938655,
          2.437873001467767,
          -2.8033530749938773,
          20.380269514638407,
          -3.289138081712543,
          5.896480743825677,
          29.974882714613543,
          10.185563825854192,
          -6.111662310974583,
          19.818143800622472,
          -20.73934743552683,
          1.1722082086727899,
          8.719518529030166,
          16.843494233580376,
          -13.933087947294252,
          20.812753002769327,
          -1.7965224239335358,
          3.172341841376998,
          -8.893084172480188,
          15.60303516834512,
          11.118366835830729,
          -6.26402155167934,
          -7.651303325414275,
          11.353174049268569,
          -15.517421339296025,
          13.643238744161284,
          7.946083287809524,
          20.922556612588394,
          12.159771898166746,
          -25.82176286590477,
          -18.997980871400298,
          12.055218155116659,
          12.105356707069651,
          -25.55590356258457,
          -5.03534879037886,
          -8.909747694272939,
          -9.523273203626724,
          -17.12236607082355,
          -17.86931002677131,
          1.9302255801083095,
          4.679940150133826,
          -10.512290541773279,
          -10.585766432703137,
          15.642394855914448,
          -3.46825577812896,
          5.115996314940412,
          24.486837372781096,
          17.19998826851837,
          -7.6703833789353615,
          5.6557276843445345,
          1.0520397556245822,
          2.6293884927308575,
          -9.49634008877292,
          4.258609809553274,
          10.584923159258505,
          -9.43410019518078,
          11.597809123444431,
          7.115088741649087,
          -6.414791754727764,
          10.818041440608468,
          -2.020018022050235,
          -9.36974805511752,
          21.111106908154216,
          5.453383262708863,
          -9.315532402272915,
          3.862002700422534,
          -17.397370152721354
         ]
        }
       ],
       "layout": {
        "annotations": [
         {
          "font": {
           "color": "black",
           "size": 10
          },
          "showarrow": false,
          "text": "1",
          "x": -39.221331009123126,
          "xanchor": "left",
          "xshift": 5,
          "y": 18.96167185838257
         },
         {
          "font": {
           "color": "black",
           "size": 10
          },
          "showarrow": false,
          "text": "2",
          "x": 30.54724908811917,
          "xanchor": "left",
          "xshift": 5,
          "y": 2.9354497770236065
         },
         {
          "font": {
           "color": "black",
           "size": 10
          },
          "showarrow": false,
          "text": "3",
          "x": 13.219470925088691,
          "xanchor": "left",
          "xshift": 5,
          "y": -9.100236890297719
         },
         {
          "font": {
           "color": "black",
           "size": 10
          },
          "showarrow": false,
          "text": "4",
          "x": 24.46755445104345,
          "xanchor": "left",
          "xshift": 5,
          "y": -11.418089780699217
         },
         {
          "font": {
           "color": "black",
           "size": 10
          },
          "showarrow": false,
          "text": "5",
          "x": 27.08286943179493,
          "xanchor": "left",
          "xshift": 5,
          "y": -9.821058799780968
         },
         {
          "font": {
           "color": "black",
           "size": 10
          },
          "showarrow": false,
          "text": "6",
          "x": -52.46962228498257,
          "xanchor": "left",
          "xshift": 5,
          "y": 4.6327725367733965
         },
         {
          "font": {
           "color": "black",
           "size": 10
          },
          "showarrow": false,
          "text": "7",
          "x": 22.187439566747198,
          "xanchor": "left",
          "xshift": 5,
          "y": 22.332969347975197
         },
         {
          "font": {
           "color": "black",
           "size": 10
          },
          "showarrow": false,
          "text": "8",
          "x": -12.84169914885539,
          "xanchor": "left",
          "xshift": 5,
          "y": -6.775298346108749
         },
         {
          "font": {
           "color": "black",
           "size": 10
          },
          "showarrow": false,
          "text": "9",
          "x": -34.43698814475467,
          "xanchor": "left",
          "xshift": 5,
          "y": -11.826972269240098
         },
         {
          "font": {
           "color": "black",
           "size": 10
          },
          "showarrow": false,
          "text": "10",
          "x": 65.20518172098103,
          "xanchor": "left",
          "xshift": 5,
          "y": 12.578796739415184
         },
         {
          "font": {
           "color": "black",
           "size": 10
          },
          "showarrow": false,
          "text": "11",
          "x": -53.36815752790851,
          "xanchor": "left",
          "xshift": 5,
          "y": 25.10107146110051
         },
         {
          "font": {
           "color": "black",
           "size": 10
          },
          "showarrow": false,
          "text": "12",
          "x": 14.88885799196765,
          "xanchor": "left",
          "xshift": 5,
          "y": -8.03566281325849
         },
         {
          "font": {
           "color": "black",
           "size": 10
          },
          "showarrow": false,
          "text": "13",
          "x": 17.00060562087807,
          "xanchor": "left",
          "xshift": 5,
          "y": -15.13659926391133
         },
         {
          "font": {
           "color": "black",
           "size": 10
          },
          "showarrow": false,
          "text": "14",
          "x": 16.60445524693664,
          "xanchor": "left",
          "xshift": 5,
          "y": -2.901967996281569
         },
         {
          "font": {
           "color": "black",
           "size": 10
          },
          "showarrow": false,
          "text": "15",
          "x": 11.928644811321167,
          "xanchor": "left",
          "xshift": 5,
          "y": -2.728506971391152
         },
         {
          "font": {
           "color": "black",
           "size": 10
          },
          "showarrow": false,
          "text": "16",
          "x": -54.02274748010367,
          "xanchor": "left",
          "xshift": 5,
          "y": 11.48251431879832
         },
         {
          "font": {
           "color": "black",
           "size": 10
          },
          "showarrow": false,
          "text": "17",
          "x": 13.898879672271597,
          "xanchor": "left",
          "xshift": 5,
          "y": -0.4161156869213204
         },
         {
          "font": {
           "color": "black",
           "size": 10
          },
          "showarrow": false,
          "text": "18",
          "x": 28.273607678834075,
          "xanchor": "left",
          "xshift": 5,
          "y": -23.88698683772185
         },
         {
          "font": {
           "color": "black",
           "size": 10
          },
          "showarrow": false,
          "text": "19",
          "x": 36.52939959421728,
          "xanchor": "left",
          "xshift": 5,
          "y": 1.2469337710642021
         },
         {
          "font": {
           "color": "black",
           "size": 10
          },
          "showarrow": false,
          "text": "20",
          "x": -52.958136162900054,
          "xanchor": "left",
          "xshift": 5,
          "y": 7.281903032204883
         },
         {
          "font": {
           "color": "black",
           "size": 10
          },
          "showarrow": false,
          "text": "21",
          "x": 33.21650231352433,
          "xanchor": "left",
          "xshift": 5,
          "y": -1.8020677938557317
         },
         {
          "font": {
           "color": "black",
           "size": 10
          },
          "showarrow": false,
          "text": "22",
          "x": 20.03084994995656,
          "xanchor": "left",
          "xshift": 5,
          "y": -12.971649955370525
         },
         {
          "font": {
           "color": "black",
           "size": 10
          },
          "showarrow": false,
          "text": "23",
          "x": -14.214848727789413,
          "xanchor": "left",
          "xshift": 5,
          "y": -10.08471209621334
         },
         {
          "font": {
           "color": "black",
           "size": 10
          },
          "showarrow": false,
          "text": "24",
          "x": 20.651051413999486,
          "xanchor": "left",
          "xshift": 5,
          "y": 5.772837153364503
         },
         {
          "font": {
           "color": "black",
           "size": 10
          },
          "showarrow": false,
          "text": "25",
          "x": 35.24231194757128,
          "xanchor": "left",
          "xshift": 5,
          "y": 1.8220415932084413
         },
         {
          "font": {
           "color": "black",
           "size": 10
          },
          "showarrow": false,
          "text": "26",
          "x": -9.18594804316983,
          "xanchor": "left",
          "xshift": 5,
          "y": -1.907495134065455
         },
         {
          "font": {
           "color": "black",
           "size": 10
          },
          "showarrow": false,
          "text": "27",
          "x": -12.751138620607238,
          "xanchor": "left",
          "xshift": 5,
          "y": -14.577700176274703
         },
         {
          "font": {
           "color": "black",
           "size": 10
          },
          "showarrow": false,
          "text": "28",
          "x": -24.087029953165143,
          "xanchor": "left",
          "xshift": 5,
          "y": -11.83873167252682
         },
         {
          "font": {
           "color": "black",
           "size": 10
          },
          "showarrow": false,
          "text": "29",
          "x": 28.785201952831866,
          "xanchor": "left",
          "xshift": 5,
          "y": -1.002663569193252
         },
         {
          "font": {
           "color": "black",
           "size": 10
          },
          "showarrow": false,
          "text": "30",
          "x": -58.428525443465404,
          "xanchor": "left",
          "xshift": 5,
          "y": -17.627966463010814
         },
         {
          "font": {
           "color": "black",
           "size": 10
          },
          "showarrow": false,
          "text": "31",
          "x": 32.488948432536986,
          "xanchor": "left",
          "xshift": 5,
          "y": -13.097918466765007
         },
         {
          "font": {
           "color": "black",
           "size": 10
          },
          "showarrow": false,
          "text": "32",
          "x": -24.343961234606315,
          "xanchor": "left",
          "xshift": 5,
          "y": -2.3183014634088956
         },
         {
          "font": {
           "color": "black",
           "size": 10
          },
          "showarrow": false,
          "text": "33",
          "x": -14.106655279825628,
          "xanchor": "left",
          "xshift": 5,
          "y": -10.679596215326546
         },
         {
          "font": {
           "color": "black",
           "size": 10
          },
          "showarrow": false,
          "text": "34",
          "x": -26.870217747973108,
          "xanchor": "left",
          "xshift": 5,
          "y": -12.187265871938655
         },
         {
          "font": {
           "color": "black",
           "size": 10
          },
          "showarrow": false,
          "text": "35",
          "x": -60.10737044152667,
          "xanchor": "left",
          "xshift": 5,
          "y": 2.437873001467767
         },
         {
          "font": {
           "color": "black",
           "size": 10
          },
          "showarrow": false,
          "text": "36",
          "x": -18.190299322221424,
          "xanchor": "left",
          "xshift": 5,
          "y": -2.8033530749938773
         },
         {
          "font": {
           "color": "black",
           "size": 10
          },
          "showarrow": false,
          "text": "37",
          "x": 80.25931941959497,
          "xanchor": "left",
          "xshift": 5,
          "y": 20.380269514638407
         },
         {
          "font": {
           "color": "black",
           "size": 10
          },
          "showarrow": false,
          "text": "38",
          "x": 8.182411303291534,
          "xanchor": "left",
          "xshift": 5,
          "y": -3.289138081712543
         },
         {
          "font": {
           "color": "black",
           "size": 10
          },
          "showarrow": false,
          "text": "39",
          "x": -56.00349942550455,
          "xanchor": "left",
          "xshift": 5,
          "y": 5.896480743825677
         },
         {
          "font": {
           "color": "black",
           "size": 10
          },
          "showarrow": false,
          "text": "40",
          "x": 76.01042682288039,
          "xanchor": "left",
          "xshift": 5,
          "y": 29.974882714613543
         },
         {
          "font": {
           "color": "black",
           "size": 10
          },
          "showarrow": false,
          "text": "41",
          "x": -45.39950521081068,
          "xanchor": "left",
          "xshift": 5,
          "y": 10.185563825854192
         },
         {
          "font": {
           "color": "black",
           "size": 10
          },
          "showarrow": false,
          "text": "42",
          "x": -15.38037955698483,
          "xanchor": "left",
          "xshift": 5,
          "y": -6.111662310974583
         },
         {
          "font": {
           "color": "black",
           "size": 10
          },
          "showarrow": false,
          "text": "43",
          "x": -52.09699646679935,
          "xanchor": "left",
          "xshift": 5,
          "y": 19.818143800622472
         },
         {
          "font": {
           "color": "black",
           "size": 10
          },
          "showarrow": false,
          "text": "44",
          "x": -24.553589843813683,
          "xanchor": "left",
          "xshift": 5,
          "y": -20.73934743552683
         },
         {
          "font": {
           "color": "black",
           "size": 10
          },
          "showarrow": false,
          "text": "45",
          "x": 13.158929069499052,
          "xanchor": "left",
          "xshift": 5,
          "y": 1.1722082086727899
         },
         {
          "font": {
           "color": "black",
           "size": 10
          },
          "showarrow": false,
          "text": "46",
          "x": -6.59368427886228,
          "xanchor": "left",
          "xshift": 5,
          "y": 8.719518529030166
         },
         {
          "font": {
           "color": "black",
           "size": 10
          },
          "showarrow": false,
          "text": "47",
          "x": -45.717095245896225,
          "xanchor": "left",
          "xshift": 5,
          "y": 16.843494233580376
         },
         {
          "font": {
           "color": "black",
           "size": 10
          },
          "showarrow": false,
          "text": "48",
          "x": 10.48507742043261,
          "xanchor": "left",
          "xshift": 5,
          "y": -13.933087947294252
         },
         {
          "font": {
           "color": "black",
           "size": 10
          },
          "showarrow": false,
          "text": "49",
          "x": -40.16637330687032,
          "xanchor": "left",
          "xshift": 5,
          "y": 20.812753002769327
         },
         {
          "font": {
           "color": "black",
           "size": 10
          },
          "showarrow": false,
          "text": "50",
          "x": 7.447651656127916,
          "xanchor": "left",
          "xshift": 5,
          "y": -1.7965224239335358
         },
         {
          "font": {
           "color": "black",
           "size": 10
          },
          "showarrow": false,
          "text": "51",
          "x": 3.771518078910617,
          "xanchor": "left",
          "xshift": 5,
          "y": 3.172341841376998
         },
         {
          "font": {
           "color": "black",
           "size": 10
          },
          "showarrow": false,
          "text": "52",
          "x": -14.854803654831565,
          "xanchor": "left",
          "xshift": 5,
          "y": -8.893084172480188
         },
         {
          "font": {
           "color": "black",
           "size": 10
          },
          "showarrow": false,
          "text": "53",
          "x": 13.595464071452783,
          "xanchor": "left",
          "xshift": 5,
          "y": 15.60303516834512
         },
         {
          "font": {
           "color": "black",
           "size": 10
          },
          "showarrow": false,
          "text": "54",
          "x": -54.39585250076022,
          "xanchor": "left",
          "xshift": 5,
          "y": 11.118366835830729
         },
         {
          "font": {
           "color": "black",
           "size": 10
          },
          "showarrow": false,
          "text": "55",
          "x": 18.07081571763234,
          "xanchor": "left",
          "xshift": 5,
          "y": -6.26402155167934
         },
         {
          "font": {
           "color": "black",
           "size": 10
          },
          "showarrow": false,
          "text": "56",
          "x": -18.014327344827215,
          "xanchor": "left",
          "xshift": 5,
          "y": -7.651303325414275
         },
         {
          "font": {
           "color": "black",
           "size": 10
          },
          "showarrow": false,
          "text": "57",
          "x": -36.789588739034265,
          "xanchor": "left",
          "xshift": 5,
          "y": 11.353174049268569
         },
         {
          "font": {
           "color": "black",
           "size": 10
          },
          "showarrow": false,
          "text": "58",
          "x": 45.148862006271436,
          "xanchor": "left",
          "xshift": 5,
          "y": -15.517421339296025
         },
         {
          "font": {
           "color": "black",
           "size": 10
          },
          "showarrow": false,
          "text": "59",
          "x": -40.00478425525164,
          "xanchor": "left",
          "xshift": 5,
          "y": 13.643238744161284
         },
         {
          "font": {
           "color": "black",
           "size": 10
          },
          "showarrow": false,
          "text": "60",
          "x": -24.94818033448426,
          "xanchor": "left",
          "xshift": 5,
          "y": 7.946083287809524
         },
         {
          "font": {
           "color": "black",
           "size": 10
          },
          "showarrow": false,
          "text": "61",
          "x": 70.79825761564312,
          "xanchor": "left",
          "xshift": 5,
          "y": 20.922556612588394
         },
         {
          "font": {
           "color": "black",
           "size": 10
          },
          "showarrow": false,
          "text": "62",
          "x": -48.387071751021914,
          "xanchor": "left",
          "xshift": 5,
          "y": 12.159771898166746
         },
         {
          "font": {
           "color": "black",
           "size": 10
          },
          "showarrow": false,
          "text": "63",
          "x": -15.641229016407488,
          "xanchor": "left",
          "xshift": 5,
          "y": -25.82176286590477
         },
         {
          "font": {
           "color": "black",
           "size": 10
          },
          "showarrow": false,
          "text": "64",
          "x": 25.076557660968565,
          "xanchor": "left",
          "xshift": 5,
          "y": -18.997980871400298
         },
         {
          "font": {
           "color": "black",
           "size": 10
          },
          "showarrow": false,
          "text": "65",
          "x": -41.395856232416406,
          "xanchor": "left",
          "xshift": 5,
          "y": 12.055218155116659
         },
         {
          "font": {
           "color": "black",
           "size": 10
          },
          "showarrow": false,
          "text": "66",
          "x": 66.55697883377547,
          "xanchor": "left",
          "xshift": 5,
          "y": 12.105356707069651
         },
         {
          "font": {
           "color": "black",
           "size": 10
          },
          "showarrow": false,
          "text": "67",
          "x": 24.623401723880367,
          "xanchor": "left",
          "xshift": 5,
          "y": -25.55590356258457
         },
         {
          "font": {
           "color": "black",
           "size": 10
          },
          "showarrow": false,
          "text": "68",
          "x": -55.49473056341971,
          "xanchor": "left",
          "xshift": 5,
          "y": -5.03534879037886
         },
         {
          "font": {
           "color": "black",
           "size": 10
          },
          "showarrow": false,
          "text": "69",
          "x": -8.291030114550573,
          "xanchor": "left",
          "xshift": 5,
          "y": -8.909747694272939
         },
         {
          "font": {
           "color": "black",
           "size": 10
          },
          "showarrow": false,
          "text": "70",
          "x": 34.329884164166316,
          "xanchor": "left",
          "xshift": 5,
          "y": -9.523273203626724
         },
         {
          "font": {
           "color": "black",
           "size": 10
          },
          "showarrow": false,
          "text": "71",
          "x": 30.617012812474304,
          "xanchor": "left",
          "xshift": 5,
          "y": -17.12236607082355
         },
         {
          "font": {
           "color": "black",
           "size": 10
          },
          "showarrow": false,
          "text": "72",
          "x": 16.2694184931547,
          "xanchor": "left",
          "xshift": 5,
          "y": -17.86931002677131
         },
         {
          "font": {
           "color": "black",
           "size": 10
          },
          "showarrow": false,
          "text": "73",
          "x": 22.910121354690084,
          "xanchor": "left",
          "xshift": 5,
          "y": 1.9302255801083095
         },
         {
          "font": {
           "color": "black",
           "size": 10
          },
          "showarrow": false,
          "text": "74",
          "x": -12.811044390973477,
          "xanchor": "left",
          "xshift": 5,
          "y": 4.679940150133826
         },
         {
          "font": {
           "color": "black",
           "size": 10
          },
          "showarrow": false,
          "text": "75",
          "x": -2.4899641403992736,
          "xanchor": "left",
          "xshift": 5,
          "y": -10.512290541773279
         },
         {
          "font": {
           "color": "black",
           "size": 10
          },
          "showarrow": false,
          "text": "76",
          "x": -41.25870457725579,
          "xanchor": "left",
          "xshift": 5,
          "y": -10.585766432703137
         },
         {
          "font": {
           "color": "black",
           "size": 10
          },
          "showarrow": false,
          "text": "77",
          "x": -31.072291527335672,
          "xanchor": "left",
          "xshift": 5,
          "y": 15.642394855914448
         },
         {
          "font": {
           "color": "black",
           "size": 10
          },
          "showarrow": false,
          "text": "78",
          "x": 42.401902872749034,
          "xanchor": "left",
          "xshift": 5,
          "y": -3.46825577812896
         },
         {
          "font": {
           "color": "black",
           "size": 10
          },
          "showarrow": false,
          "text": "79",
          "x": -15.982878377805406,
          "xanchor": "left",
          "xshift": 5,
          "y": 5.115996314940412
         },
         {
          "font": {
           "color": "black",
           "size": 10
          },
          "showarrow": false,
          "text": "80",
          "x": 72.4807374310567,
          "xanchor": "left",
          "xshift": 5,
          "y": 24.486837372781096
         },
         {
          "font": {
           "color": "black",
           "size": 10
          },
          "showarrow": false,
          "text": "81",
          "x": -41.954320973113425,
          "xanchor": "left",
          "xshift": 5,
          "y": 17.19998826851837
         },
         {
          "font": {
           "color": "black",
           "size": 10
          },
          "showarrow": false,
          "text": "82",
          "x": -17.821418792049325,
          "xanchor": "left",
          "xshift": 5,
          "y": -7.6703833789353615
         },
         {
          "font": {
           "color": "black",
           "size": 10
          },
          "showarrow": false,
          "text": "83",
          "x": 6.377850383954058,
          "xanchor": "left",
          "xshift": 5,
          "y": 5.6557276843445345
         },
         {
          "font": {
           "color": "black",
           "size": 10
          },
          "showarrow": false,
          "text": "84",
          "x": 32.67981119088292,
          "xanchor": "left",
          "xshift": 5,
          "y": 1.0520397556245822
         },
         {
          "font": {
           "color": "black",
           "size": 10
          },
          "showarrow": false,
          "text": "85",
          "x": 8.470550330587873,
          "xanchor": "left",
          "xshift": 5,
          "y": 2.6293884927308575
         },
         {
          "font": {
           "color": "black",
           "size": 10
          },
          "showarrow": false,
          "text": "86",
          "x": 16.596132183901915,
          "xanchor": "left",
          "xshift": 5,
          "y": -9.49634008877292
         },
         {
          "font": {
           "color": "black",
           "size": 10
          },
          "showarrow": false,
          "text": "87",
          "x": 17.295129078563335,
          "xanchor": "left",
          "xshift": 5,
          "y": 4.258609809553274
         },
         {
          "font": {
           "color": "black",
           "size": 10
          },
          "showarrow": false,
          "text": "88",
          "x": -20.41400713385139,
          "xanchor": "left",
          "xshift": 5,
          "y": 10.584923159258505
         },
         {
          "font": {
           "color": "black",
           "size": 10
          },
          "showarrow": false,
          "text": "89",
          "x": -0.052452266986592826,
          "xanchor": "left",
          "xshift": 5,
          "y": -9.43410019518078
         },
         {
          "font": {
           "color": "black",
           "size": 10
          },
          "showarrow": false,
          "text": "90",
          "x": 75.51792073677177,
          "xanchor": "left",
          "xshift": 5,
          "y": 11.597809123444431
         },
         {
          "font": {
           "color": "black",
           "size": 10
          },
          "showarrow": false,
          "text": "91",
          "x": -26.437428018104132,
          "xanchor": "left",
          "xshift": 5,
          "y": 7.115088741649087
         },
         {
          "font": {
           "color": "black",
           "size": 10
          },
          "showarrow": false,
          "text": "92",
          "x": 2.1758378172480386,
          "xanchor": "left",
          "xshift": 5,
          "y": -6.414791754727764
         },
         {
          "font": {
           "color": "black",
           "size": 10
          },
          "showarrow": false,
          "text": "93",
          "x": 75.42594643660348,
          "xanchor": "left",
          "xshift": 5,
          "y": 10.818041440608468
         },
         {
          "font": {
           "color": "black",
           "size": 10
          },
          "showarrow": false,
          "text": "94",
          "x": 23.864203687917126,
          "xanchor": "left",
          "xshift": 5,
          "y": -2.020018022050235
         },
         {
          "font": {
           "color": "black",
           "size": 10
          },
          "showarrow": false,
          "text": "95",
          "x": 9.060917863613383,
          "xanchor": "left",
          "xshift": 5,
          "y": -9.36974805511752
         },
         {
          "font": {
           "color": "black",
           "size": 10
          },
          "showarrow": false,
          "text": "96",
          "x": 63.67533751655184,
          "xanchor": "left",
          "xshift": 5,
          "y": 21.111106908154216
         },
         {
          "font": {
           "color": "black",
           "size": 10
          },
          "showarrow": false,
          "text": "97",
          "x": -32.31389033440265,
          "xanchor": "left",
          "xshift": 5,
          "y": 5.453383262708863
         },
         {
          "font": {
           "color": "black",
           "size": 10
          },
          "showarrow": false,
          "text": "98",
          "x": -46.598534236770305,
          "xanchor": "left",
          "xshift": 5,
          "y": -9.315532402272915
         },
         {
          "font": {
           "color": "black",
           "size": 10
          },
          "showarrow": false,
          "text": "99",
          "x": -30.982464083173294,
          "xanchor": "left",
          "xshift": 5,
          "y": 3.862002700422534
         },
         {
          "font": {
           "color": "black",
           "size": 10
          },
          "showarrow": false,
          "text": "100",
          "x": 20.339185701876474,
          "xanchor": "left",
          "xshift": 5,
          "y": -17.397370152721354
         }
        ],
        "height": 650,
        "template": {
         "data": {
          "bar": [
           {
            "error_x": {
             "color": "#2a3f5f"
            },
            "error_y": {
             "color": "#2a3f5f"
            },
            "marker": {
             "line": {
              "color": "#E5ECF6",
              "width": 0.5
             },
             "pattern": {
              "fillmode": "overlay",
              "size": 10,
              "solidity": 0.2
             }
            },
            "type": "bar"
           }
          ],
          "barpolar": [
           {
            "marker": {
             "line": {
              "color": "#E5ECF6",
              "width": 0.5
             },
             "pattern": {
              "fillmode": "overlay",
              "size": 10,
              "solidity": 0.2
             }
            },
            "type": "barpolar"
           }
          ],
          "carpet": [
           {
            "aaxis": {
             "endlinecolor": "#2a3f5f",
             "gridcolor": "white",
             "linecolor": "white",
             "minorgridcolor": "white",
             "startlinecolor": "#2a3f5f"
            },
            "baxis": {
             "endlinecolor": "#2a3f5f",
             "gridcolor": "white",
             "linecolor": "white",
             "minorgridcolor": "white",
             "startlinecolor": "#2a3f5f"
            },
            "type": "carpet"
           }
          ],
          "choropleth": [
           {
            "colorbar": {
             "outlinewidth": 0,
             "ticks": ""
            },
            "type": "choropleth"
           }
          ],
          "contour": [
           {
            "colorbar": {
             "outlinewidth": 0,
             "ticks": ""
            },
            "colorscale": [
             [
              0,
              "#0d0887"
             ],
             [
              0.1111111111111111,
              "#46039f"
             ],
             [
              0.2222222222222222,
              "#7201a8"
             ],
             [
              0.3333333333333333,
              "#9c179e"
             ],
             [
              0.4444444444444444,
              "#bd3786"
             ],
             [
              0.5555555555555556,
              "#d8576b"
             ],
             [
              0.6666666666666666,
              "#ed7953"
             ],
             [
              0.7777777777777778,
              "#fb9f3a"
             ],
             [
              0.8888888888888888,
              "#fdca26"
             ],
             [
              1,
              "#f0f921"
             ]
            ],
            "type": "contour"
           }
          ],
          "contourcarpet": [
           {
            "colorbar": {
             "outlinewidth": 0,
             "ticks": ""
            },
            "type": "contourcarpet"
           }
          ],
          "heatmap": [
           {
            "colorbar": {
             "outlinewidth": 0,
             "ticks": ""
            },
            "colorscale": [
             [
              0,
              "#0d0887"
             ],
             [
              0.1111111111111111,
              "#46039f"
             ],
             [
              0.2222222222222222,
              "#7201a8"
             ],
             [
              0.3333333333333333,
              "#9c179e"
             ],
             [
              0.4444444444444444,
              "#bd3786"
             ],
             [
              0.5555555555555556,
              "#d8576b"
             ],
             [
              0.6666666666666666,
              "#ed7953"
             ],
             [
              0.7777777777777778,
              "#fb9f3a"
             ],
             [
              0.8888888888888888,
              "#fdca26"
             ],
             [
              1,
              "#f0f921"
             ]
            ],
            "type": "heatmap"
           }
          ],
          "heatmapgl": [
           {
            "colorbar": {
             "outlinewidth": 0,
             "ticks": ""
            },
            "colorscale": [
             [
              0,
              "#0d0887"
             ],
             [
              0.1111111111111111,
              "#46039f"
             ],
             [
              0.2222222222222222,
              "#7201a8"
             ],
             [
              0.3333333333333333,
              "#9c179e"
             ],
             [
              0.4444444444444444,
              "#bd3786"
             ],
             [
              0.5555555555555556,
              "#d8576b"
             ],
             [
              0.6666666666666666,
              "#ed7953"
             ],
             [
              0.7777777777777778,
              "#fb9f3a"
             ],
             [
              0.8888888888888888,
              "#fdca26"
             ],
             [
              1,
              "#f0f921"
             ]
            ],
            "type": "heatmapgl"
           }
          ],
          "histogram": [
           {
            "marker": {
             "pattern": {
              "fillmode": "overlay",
              "size": 10,
              "solidity": 0.2
             }
            },
            "type": "histogram"
           }
          ],
          "histogram2d": [
           {
            "colorbar": {
             "outlinewidth": 0,
             "ticks": ""
            },
            "colorscale": [
             [
              0,
              "#0d0887"
             ],
             [
              0.1111111111111111,
              "#46039f"
             ],
             [
              0.2222222222222222,
              "#7201a8"
             ],
             [
              0.3333333333333333,
              "#9c179e"
             ],
             [
              0.4444444444444444,
              "#bd3786"
             ],
             [
              0.5555555555555556,
              "#d8576b"
             ],
             [
              0.6666666666666666,
              "#ed7953"
             ],
             [
              0.7777777777777778,
              "#fb9f3a"
             ],
             [
              0.8888888888888888,
              "#fdca26"
             ],
             [
              1,
              "#f0f921"
             ]
            ],
            "type": "histogram2d"
           }
          ],
          "histogram2dcontour": [
           {
            "colorbar": {
             "outlinewidth": 0,
             "ticks": ""
            },
            "colorscale": [
             [
              0,
              "#0d0887"
             ],
             [
              0.1111111111111111,
              "#46039f"
             ],
             [
              0.2222222222222222,
              "#7201a8"
             ],
             [
              0.3333333333333333,
              "#9c179e"
             ],
             [
              0.4444444444444444,
              "#bd3786"
             ],
             [
              0.5555555555555556,
              "#d8576b"
             ],
             [
              0.6666666666666666,
              "#ed7953"
             ],
             [
              0.7777777777777778,
              "#fb9f3a"
             ],
             [
              0.8888888888888888,
              "#fdca26"
             ],
             [
              1,
              "#f0f921"
             ]
            ],
            "type": "histogram2dcontour"
           }
          ],
          "mesh3d": [
           {
            "colorbar": {
             "outlinewidth": 0,
             "ticks": ""
            },
            "type": "mesh3d"
           }
          ],
          "parcoords": [
           {
            "line": {
             "colorbar": {
              "outlinewidth": 0,
              "ticks": ""
             }
            },
            "type": "parcoords"
           }
          ],
          "pie": [
           {
            "automargin": true,
            "type": "pie"
           }
          ],
          "scatter": [
           {
            "fillpattern": {
             "fillmode": "overlay",
             "size": 10,
             "solidity": 0.2
            },
            "type": "scatter"
           }
          ],
          "scatter3d": [
           {
            "line": {
             "colorbar": {
              "outlinewidth": 0,
              "ticks": ""
             }
            },
            "marker": {
             "colorbar": {
              "outlinewidth": 0,
              "ticks": ""
             }
            },
            "type": "scatter3d"
           }
          ],
          "scattercarpet": [
           {
            "marker": {
             "colorbar": {
              "outlinewidth": 0,
              "ticks": ""
             }
            },
            "type": "scattercarpet"
           }
          ],
          "scattergeo": [
           {
            "marker": {
             "colorbar": {
              "outlinewidth": 0,
              "ticks": ""
             }
            },
            "type": "scattergeo"
           }
          ],
          "scattergl": [
           {
            "marker": {
             "colorbar": {
              "outlinewidth": 0,
              "ticks": ""
             }
            },
            "type": "scattergl"
           }
          ],
          "scattermapbox": [
           {
            "marker": {
             "colorbar": {
              "outlinewidth": 0,
              "ticks": ""
             }
            },
            "type": "scattermapbox"
           }
          ],
          "scatterpolar": [
           {
            "marker": {
             "colorbar": {
              "outlinewidth": 0,
              "ticks": ""
             }
            },
            "type": "scatterpolar"
           }
          ],
          "scatterpolargl": [
           {
            "marker": {
             "colorbar": {
              "outlinewidth": 0,
              "ticks": ""
             }
            },
            "type": "scatterpolargl"
           }
          ],
          "scatterternary": [
           {
            "marker": {
             "colorbar": {
              "outlinewidth": 0,
              "ticks": ""
             }
            },
            "type": "scatterternary"
           }
          ],
          "surface": [
           {
            "colorbar": {
             "outlinewidth": 0,
             "ticks": ""
            },
            "colorscale": [
             [
              0,
              "#0d0887"
             ],
             [
              0.1111111111111111,
              "#46039f"
             ],
             [
              0.2222222222222222,
              "#7201a8"
             ],
             [
              0.3333333333333333,
              "#9c179e"
             ],
             [
              0.4444444444444444,
              "#bd3786"
             ],
             [
              0.5555555555555556,
              "#d8576b"
             ],
             [
              0.6666666666666666,
              "#ed7953"
             ],
             [
              0.7777777777777778,
              "#fb9f3a"
             ],
             [
              0.8888888888888888,
              "#fdca26"
             ],
             [
              1,
              "#f0f921"
             ]
            ],
            "type": "surface"
           }
          ],
          "table": [
           {
            "cells": {
             "fill": {
              "color": "#EBF0F8"
             },
             "line": {
              "color": "white"
             }
            },
            "header": {
             "fill": {
              "color": "#C8D4E3"
             },
             "line": {
              "color": "white"
             }
            },
            "type": "table"
           }
          ]
         },
         "layout": {
          "annotationdefaults": {
           "arrowcolor": "#2a3f5f",
           "arrowhead": 0,
           "arrowwidth": 1
          },
          "autotypenumbers": "strict",
          "coloraxis": {
           "colorbar": {
            "outlinewidth": 0,
            "ticks": ""
           }
          },
          "colorscale": {
           "diverging": [
            [
             0,
             "#8e0152"
            ],
            [
             0.1,
             "#c51b7d"
            ],
            [
             0.2,
             "#de77ae"
            ],
            [
             0.3,
             "#f1b6da"
            ],
            [
             0.4,
             "#fde0ef"
            ],
            [
             0.5,
             "#f7f7f7"
            ],
            [
             0.6,
             "#e6f5d0"
            ],
            [
             0.7,
             "#b8e186"
            ],
            [
             0.8,
             "#7fbc41"
            ],
            [
             0.9,
             "#4d9221"
            ],
            [
             1,
             "#276419"
            ]
           ],
           "sequential": [
            [
             0,
             "#0d0887"
            ],
            [
             0.1111111111111111,
             "#46039f"
            ],
            [
             0.2222222222222222,
             "#7201a8"
            ],
            [
             0.3333333333333333,
             "#9c179e"
            ],
            [
             0.4444444444444444,
             "#bd3786"
            ],
            [
             0.5555555555555556,
             "#d8576b"
            ],
            [
             0.6666666666666666,
             "#ed7953"
            ],
            [
             0.7777777777777778,
             "#fb9f3a"
            ],
            [
             0.8888888888888888,
             "#fdca26"
            ],
            [
             1,
             "#f0f921"
            ]
           ],
           "sequentialminus": [
            [
             0,
             "#0d0887"
            ],
            [
             0.1111111111111111,
             "#46039f"
            ],
            [
             0.2222222222222222,
             "#7201a8"
            ],
            [
             0.3333333333333333,
             "#9c179e"
            ],
            [
             0.4444444444444444,
             "#bd3786"
            ],
            [
             0.5555555555555556,
             "#d8576b"
            ],
            [
             0.6666666666666666,
             "#ed7953"
            ],
            [
             0.7777777777777778,
             "#fb9f3a"
            ],
            [
             0.8888888888888888,
             "#fdca26"
            ],
            [
             1,
             "#f0f921"
            ]
           ]
          },
          "colorway": [
           "#636efa",
           "#EF553B",
           "#00cc96",
           "#ab63fa",
           "#FFA15A",
           "#19d3f3",
           "#FF6692",
           "#B6E880",
           "#FF97FF",
           "#FECB52"
          ],
          "font": {
           "color": "#2a3f5f"
          },
          "geo": {
           "bgcolor": "white",
           "lakecolor": "white",
           "landcolor": "#E5ECF6",
           "showlakes": true,
           "showland": true,
           "subunitcolor": "white"
          },
          "hoverlabel": {
           "align": "left"
          },
          "hovermode": "closest",
          "mapbox": {
           "style": "light"
          },
          "paper_bgcolor": "white",
          "plot_bgcolor": "#E5ECF6",
          "polar": {
           "angularaxis": {
            "gridcolor": "white",
            "linecolor": "white",
            "ticks": ""
           },
           "bgcolor": "#E5ECF6",
           "radialaxis": {
            "gridcolor": "white",
            "linecolor": "white",
            "ticks": ""
           }
          },
          "scene": {
           "xaxis": {
            "backgroundcolor": "#E5ECF6",
            "gridcolor": "white",
            "gridwidth": 2,
            "linecolor": "white",
            "showbackground": true,
            "ticks": "",
            "zerolinecolor": "white"
           },
           "yaxis": {
            "backgroundcolor": "#E5ECF6",
            "gridcolor": "white",
            "gridwidth": 2,
            "linecolor": "white",
            "showbackground": true,
            "ticks": "",
            "zerolinecolor": "white"
           },
           "zaxis": {
            "backgroundcolor": "#E5ECF6",
            "gridcolor": "white",
            "gridwidth": 2,
            "linecolor": "white",
            "showbackground": true,
            "ticks": "",
            "zerolinecolor": "white"
           }
          },
          "shapedefaults": {
           "line": {
            "color": "#2a3f5f"
           }
          },
          "ternary": {
           "aaxis": {
            "gridcolor": "white",
            "linecolor": "white",
            "ticks": ""
           },
           "baxis": {
            "gridcolor": "white",
            "linecolor": "white",
            "ticks": ""
           },
           "bgcolor": "#E5ECF6",
           "caxis": {
            "gridcolor": "white",
            "linecolor": "white",
            "ticks": ""
           }
          },
          "title": {
           "x": 0.05
          },
          "xaxis": {
           "automargin": true,
           "gridcolor": "white",
           "linecolor": "white",
           "ticks": "",
           "title": {
            "standoff": 15
           },
           "zerolinecolor": "white",
           "zerolinewidth": 2
          },
          "yaxis": {
           "automargin": true,
           "gridcolor": "white",
           "linecolor": "white",
           "ticks": "",
           "title": {
            "standoff": 15
           },
           "zerolinecolor": "white",
           "zerolinewidth": 2
          }
         }
        },
        "title": {
         "text": "PCA Analysis of Student Performance"
        },
        "width": 800,
        "xaxis": {
         "title": {
          "text": "Better grades ->"
         }
        },
        "yaxis": {
         "title": {
          "text": "<-- Better in Humanities     Better in STEM -->"
         }
        }
       }
      }
     },
     "metadata": {},
     "output_type": "display_data"
    }
   ],
   "source": [
    "figure_PCA.show()"
   ]
  },
  {
   "cell_type": "markdown",
   "id": "da0fd607",
   "metadata": {},
   "source": [
    "**Recommendations:**\n",
    "* The students at the top right have high grades and are good in STEM - **recommend top technical universities for them**\n",
    "* The students at the top left are strong in STEM, but could use better grades overall - **encourage them to pursue STEM majors**\n",
    "* The students at the bottom left are strong in humanities, but could use better grades overall - **encourage them to pursue humanities majors**\n",
    "* For the remaining students in the middle - **work with them to help them figure out what type of careers they are interested in**"
   ]
  }
 ],
 "metadata": {
  "kernelspec": {
   "display_name": "Python 3 (ipykernel)",
   "language": "python",
   "name": "python3"
  },
  "language_info": {
   "codemirror_mode": {
    "name": "ipython",
    "version": 3
   },
   "file_extension": ".py",
   "mimetype": "text/x-python",
   "name": "python",
   "nbconvert_exporter": "python",
   "pygments_lexer": "ipython3",
   "version": "3.12.3"
  }
 },
 "nbformat": 4,
 "nbformat_minor": 5
}
